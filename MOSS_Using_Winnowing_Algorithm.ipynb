{
  "nbformat": 4,
  "nbformat_minor": 0,
  "metadata": {
    "colab": {
      "name": "MOSS Using Winnowing Algorithm.ipynb",
      "provenance": [],
      "collapsed_sections": []
    },
    "kernelspec": {
      "name": "python3",
      "display_name": "Python 3"
    },
    "language_info": {
      "name": "python"
    }
  },
  "cells": [
    {
      "cell_type": "markdown",
      "source": [
        "# MTP TASK LIST:\n",
        "https://docs.google.com/document/d/1fU2ct53ImvOxZRE9IEZgA4B1L2nCg_MBlY4LIVGeLgM/edit\n",
        "\n",
        "# GitHub Repository:\n",
        "https://github.com/IshanRD19/Master_Thesis_Project"
      ],
      "metadata": {
        "id": "xPxXBD1Xq34J"
      }
    },
    {
      "cell_type": "code",
      "source": [
        "# from google.colab import drive\n",
        "# drive.mount('/content/drive')"
      ],
      "metadata": {
        "id": "aHm_LqZrGaNP"
      },
      "execution_count": 31,
      "outputs": []
    },
    {
      "cell_type": "markdown",
      "source": [
        "# Import the required libraries"
      ],
      "metadata": {
        "id": "0oykJQmurnYE"
      }
    },
    {
      "cell_type": "code",
      "execution_count": 32,
      "metadata": {
        "id": "9b64oxARnRhc"
      },
      "outputs": [],
      "source": [
        "# Provides functions to interact with the file system\n",
        "import os\n",
        "\n",
        "# Fast and flexible means for data manipulation and analysis\n",
        "import pandas as pd\n",
        "\n",
        "# An interface for hashing any raw message in an encrypted format.\n",
        "import hashlib as hl\n"
      ]
    },
    {
      "cell_type": "markdown",
      "source": [
        "# Read the text files "
      ],
      "metadata": {
        "id": "cqhhqRCuDY_y"
      }
    },
    {
      "cell_type": "code",
      "source": [
        "def scan_and_return_text(filename):\n",
        "  '''\n",
        "  To scan the input file and return the text\n",
        "  '''\n",
        "  with open(filename) as f:\n",
        "    lines_of_code = f.readlines()\n",
        "\n",
        "  return lines_of_code\n",
        "\n",
        "\n",
        "def display_code(lines_of_code):\n",
        "  '''\n",
        "  To display the lines of code\n",
        "  '''\n",
        "  for line in lines_of_code:\n",
        "    print(line, end='')\n"
      ],
      "metadata": {
        "id": "AFZGsvNMDlFC"
      },
      "execution_count": 33,
      "outputs": []
    },
    {
      "cell_type": "markdown",
      "source": [
        "# Remove irrelevant features"
      ],
      "metadata": {
        "id": "cOLrfR4mLsde"
      }
    },
    {
      "cell_type": "code",
      "source": [
        "def concatenate_code(lines_of_code):\n",
        "  '''\n",
        "  To concatenate the lines of code and return a string\n",
        "  '''\n",
        "  \n",
        "  return ''.join(lines_of_code)\n",
        "\n",
        "\n",
        "def get_clean_code(code_as_text):\n",
        "  '''\n",
        "  To clean the code by removing newline characters and whitespaces\n",
        "  '''\n",
        "  code_as_text = code_as_text.replace('\\n', '')\n",
        "  code_as_text = ''.join(code_as_text.split())\n",
        "  return code_as_text\n",
        "\n",
        "\n",
        "def preprocess_code(lines_of_code):\n",
        "\n",
        "  # Combine the different lines of code to form a text\n",
        "  code_as_text = concatenate_code(lines_of_code)\n",
        "\n",
        "  # Remove newline characters and whitespaces from the text\n",
        "  clean_code = get_clean_code(code_as_text)\n",
        "  \n",
        "  return clean_code\n",
        "\n"
      ],
      "metadata": {
        "id": "jFj1P3iKLvyX"
      },
      "execution_count": 34,
      "outputs": []
    },
    {
      "cell_type": "markdown",
      "source": [
        "# Derive k-grams from text"
      ],
      "metadata": {
        "id": "ecGh2Dg3LItx"
      }
    },
    {
      "cell_type": "code",
      "source": [
        "def derive_k_grams(clean_code, k=5):\n",
        "  '''\n",
        "  To derive the sequence of k-grams from the text \n",
        "  '''\n",
        "  length = len(clean_code)\n",
        "  k_grams = []\n",
        "\n",
        "  for i in range(length - k + 1):\n",
        "    k_grams.append(clean_code[i:i+k])\n",
        "\n",
        "  return k_grams"
      ],
      "metadata": {
        "id": "62SLv2nhLG6X"
      },
      "execution_count": 35,
      "outputs": []
    },
    {
      "cell_type": "markdown",
      "source": [
        "# Generate hashes of k-grams"
      ],
      "metadata": {
        "id": "vXQANREoO00t"
      }
    },
    {
      "cell_type": "code",
      "source": [
        "def generate_hash(k_gram):\n",
        "  '''\n",
        "  To generate the equivalent 40-bit hexadecimal code\n",
        "  '''\n",
        "  encoded_text = k_gram.encode('utf-8')\n",
        "  hash_value = hl.sha1(encoded_text)\n",
        "  return hash_value.hexdigest()\n",
        "\n",
        "\n",
        "def fetch_hash_values(k_grams):\n",
        "  '''\n",
        "  To return the hash values for each given k-gram\n",
        "  '''\n",
        "  hash_values = []\n",
        "\n",
        "  for k_gram in k_grams:\n",
        "    hash_values.append(generate_hash(k_gram))\n",
        "\n",
        "  return hash_values"
      ],
      "metadata": {
        "id": "SKQkTtXIDlO6"
      },
      "execution_count": 36,
      "outputs": []
    },
    {
      "cell_type": "markdown",
      "source": [
        "# Implement Winnowing Algorithm"
      ],
      "metadata": {
        "id": "Lpx8ToTVXQac"
      }
    },
    {
      "cell_type": "code",
      "source": [
        "def extract_windows(hash_values, window_size):\n",
        "  '''\n",
        "  To extract windows of the given size\n",
        "  '''\n",
        "  windows = []\n",
        "\n",
        "  for i in range(len(hash_values) - window_size + 1):\n",
        "    windows.append(hash_values[i:i+window_size])\n",
        "\n",
        "  return windows\n",
        "\n",
        "\n",
        "def implement_winnowing(windows, window_size):\n",
        "  '''\n",
        "  To select a fingerprint from each window\n",
        "  '''\n",
        "  w = 0\n",
        "  fingerprints = []\n",
        "  window_count = len(windows)\n",
        "\n",
        "  # Traverse through all the windows\n",
        "  while w < window_count:\n",
        "    min_hash_value, min_hash_value_index = windows[w][0], 0\n",
        "\n",
        "    # For each hash value in the window\n",
        "    for i in range(1, window_size):\n",
        "\n",
        "      # Compare and store the minimum hash value\n",
        "      if windows[w][i] < min_hash_value:\n",
        "        min_hash_value = windows[w][i]\n",
        "        min_hash_value_index = i\n",
        "\n",
        "    fingerprints.append(min_hash_value)\n",
        "    w = w + min_hash_value_index + 1\n",
        "\n",
        "  return fingerprints\n",
        "\n",
        "\n",
        "hash_values = [77, 74, 42, 17, 98, 50, 17, 98, 8, 88, 67, 39, 77, 74, 42, 17, 98]\n",
        "windows = extract_windows(hash_values, 4)\n",
        "windows"
      ],
      "metadata": {
        "id": "9eRMyXlbXPjo",
        "colab": {
          "base_uri": "https://localhost:8080/"
        },
        "outputId": "a50936ae-74d8-4339-c4d1-a54a52a7d995"
      },
      "execution_count": 37,
      "outputs": [
        {
          "output_type": "execute_result",
          "data": {
            "text/plain": [
              "[[77, 74, 42, 17],\n",
              " [74, 42, 17, 98],\n",
              " [42, 17, 98, 50],\n",
              " [17, 98, 50, 17],\n",
              " [98, 50, 17, 98],\n",
              " [50, 17, 98, 8],\n",
              " [17, 98, 8, 88],\n",
              " [98, 8, 88, 67],\n",
              " [8, 88, 67, 39],\n",
              " [88, 67, 39, 77],\n",
              " [67, 39, 77, 74],\n",
              " [39, 77, 74, 42],\n",
              " [77, 74, 42, 17],\n",
              " [74, 42, 17, 98]]"
            ]
          },
          "metadata": {},
          "execution_count": 37
        }
      ]
    },
    {
      "cell_type": "code",
      "source": [
        "fingerprints = implement_winnowing(windows, 4)\n",
        "fingerprints"
      ],
      "metadata": {
        "id": "4vwNrPXaXPlc",
        "colab": {
          "base_uri": "https://localhost:8080/"
        },
        "outputId": "a05cbafd-80ac-47d7-957d-93b9d3e6a1c3"
      },
      "execution_count": 38,
      "outputs": [
        {
          "output_type": "execute_result",
          "data": {
            "text/plain": [
              "[17, 17, 8, 39, 17]"
            ]
          },
          "metadata": {},
          "execution_count": 38
        }
      ]
    },
    {
      "cell_type": "markdown",
      "source": [
        "# Check for Plagiarism"
      ],
      "metadata": {
        "id": "3WQQrwgKO1fm"
      }
    },
    {
      "cell_type": "code",
      "source": [
        "def check_for_plagiarism(path, filename_1, filename_2, verbose=False):\n",
        "  '''\n",
        "  To compare given codes for plagiarism\n",
        "  '''\n",
        "  # Read the two text files\n",
        "  code_1 = scan_and_return_text(path + filename_1)\n",
        "  code_2 = scan_and_return_text(path + filename_2)\n",
        "\n",
        "  # Display the codes\n",
        "  # display_code(code_1)\n",
        "  # display_code(code_2)\n",
        "\n",
        "  # Pre-process the codes\n",
        "  clean_code_1 = preprocess_code(code_1)\n",
        "  clean_code_2 = preprocess_code(code_2)\n",
        "\n",
        "  # Set the noise threshold\n",
        "  k = 5\n",
        "\n",
        "  # Form k-grams from the pre-processed text\n",
        "  k_grams_1 = derive_k_grams(clean_code_1, k)\n",
        "  k_grams_2 = derive_k_grams(clean_code_2, k)\n",
        "\n",
        "  # Generate hash values from the k-grams\n",
        "  hash_values_1 = fetch_hash_values(k_grams_1)\n",
        "  hash_values_2 = fetch_hash_values(k_grams_2)\n",
        "\n",
        "  # Set the window size\n",
        "  window_size = 4\n",
        "\n",
        "  # Form the windows for the above hash values\n",
        "  windows_1 = extract_windows(hash_values_1, window_size)\n",
        "  windows_2 = extract_windows(hash_values_2, window_size)\n",
        "\n",
        "  # Extract the fingerprints of each code\n",
        "  fingerprints_1 = implement_winnowing(windows_1, window_size)\n",
        "  fingerprints_2 = implement_winnowing(windows_2, window_size)\n",
        "\n",
        "  fingerprints_of_1_in_2 = len([fingerprint for fingerprint in fingerprints_1 if fingerprint in fingerprints_2])\n",
        "  fingerprints_of_2_in_1 = len([fingerprint for fingerprint in fingerprints_2 if fingerprint in fingerprints_1])\n",
        "\n",
        "  result = round(100 * (fingerprints_of_1_in_2 + fingerprints_of_2_in_1) / (len(fingerprints_1) + len(fingerprints_2)),2)\n",
        "\n",
        "  # Display the Plagiarism Report\n",
        "  if verbose:\n",
        "\n",
        "    print('Total Fingerprints in {}: {}'.format(filename_1, len(fingerprints_1)))\n",
        "    print('Total Unique Fingerprints in {}: {}'.format(filename_1, len(set(fingerprints_1))))\n",
        "    print('Total Fingerprints in {}: {}'.format(filename_2, len(fingerprints_2)))\n",
        "    print('Total Unique Fingerprints in {}: {}'.format(filename_2, len(set(fingerprints_2))))\n",
        "\n",
        "    print('----------------------------------------------------')\n",
        "    print('Code {} Fingerprints present in Code {}: {}'.format(1, 2, fingerprints_of_1_in_2))\n",
        "    print('Code {} Fingerprints present in Code {}: {}'.format(2, 1, fingerprints_of_2_in_1))\n",
        "    print('Total Common Unique Fingerprints: {}'.format(len(list(set(fingerprints_1) & set(fingerprints_2)))))\n",
        "    print('----------------------------------------------------')\n",
        "    print('Plagiarism Report: {}% Match'.format(result))\n",
        "    print('----------------------------------------------------')\n",
        "\n",
        "  return result\n"
      ],
      "metadata": {
        "id": "d0Sn2HjVYGwc"
      },
      "execution_count": 39,
      "outputs": []
    },
    {
      "cell_type": "markdown",
      "source": [
        "# Run MOSS for given batch of files"
      ],
      "metadata": {
        "id": "y675EAY3Lm4m"
      }
    },
    {
      "cell_type": "code",
      "source": [
        "def trigger_moss(path, want_exhaustive_logs=False, verbose=False):\n",
        "  '''\n",
        "  To run MOSS for all the files present in the given path \n",
        "  '''\n",
        "  data = []\n",
        "\n",
        "  # Extract all files present in the given path\n",
        "  filenames = os.listdir(path)\n",
        "  file_count = len(filenames)\n",
        "\n",
        "  # For each file in directory\n",
        "  for i in range(file_count):\n",
        "\n",
        "    # Compare each file as source code\n",
        "    for j in range(i+1, file_count):\n",
        "\n",
        "      # Evaluate the files for plagiarism\n",
        "      plagiarism_percentage = check_for_plagiarism(path, filenames[i], filenames[j])\n",
        "\n",
        "      # Store the plagiarism percentage\n",
        "      data.append([filenames[i], filenames[j], plagiarism_percentage])\n",
        "      data.append([filenames[j], filenames[i], plagiarism_percentage])\n",
        "\n",
        "  # Create a dataframe of acquired results\n",
        "  plagiarism_logs = pd.DataFrame(data, columns=['Submitted Code', 'Source Code', 'Plagiarism (%)'])\n",
        "\n",
        "  # Display the exhaustive list of logs\n",
        "  if verbose:\n",
        "    plagiarism_logs.sort_values(by=['Plagiarism (%)'], ascending=False).reset_index(drop=True)\n",
        "\n",
        "  # Check if list of exhaustive logs is required\n",
        "  if want_exhaustive_logs:\n",
        "    return plagiarism_logs.sort_values(by=['Plagiarism (%)'], ascending=False).reset_index(drop=True)\n",
        "\n",
        "  return plagiarism_logs.loc[plagiarism_logs.groupby(['Submitted Code'], sort=True)['Plagiarism (%)'].idxmax()].sort_values(by=['Plagiarism (%)'], ascending=False).reset_index(drop=True)\n"
      ],
      "metadata": {
        "id": "4r-OUNMBn-4m"
      },
      "execution_count": 40,
      "outputs": []
    },
    {
      "cell_type": "markdown",
      "source": [
        "# Display the MOSS Report"
      ],
      "metadata": {
        "id": "i3eycg88MW7K"
      }
    },
    {
      "cell_type": "code",
      "source": [
        "TEST_PATH = \"/content/drive/MyDrive/Master_Thesis_Project/tests/\"\n",
        "\n",
        "SAMPLE_TEST = TEST_PATH + 'sample_codes/'\n",
        "FACTORIAL_TEST = TEST_PATH + 'factorial/'\n",
        "LINKED_LIST_TEST = TEST_PATH + 'linked_list/'\n"
      ],
      "metadata": {
        "id": "llNbkmnzGkQh"
      },
      "execution_count": 41,
      "outputs": []
    },
    {
      "cell_type": "code",
      "source": [
        "trigger_moss(SAMPLE_TEST)"
      ],
      "metadata": {
        "colab": {
          "base_uri": "https://localhost:8080/",
          "height": 112
        },
        "id": "ckDSmhL9Rwfe",
        "outputId": "c7b3a7b5-33bb-44f4-fcb6-10a97cad1365"
      },
      "execution_count": 42,
      "outputs": [
        {
          "output_type": "execute_result",
          "data": {
            "text/plain": [
              "  Submitted Code Source Code  Plagiarism (%)\n",
              "0       code1.py    code2.py           84.55\n",
              "1       code2.py    code1.py           84.55"
            ],
            "text/html": [
              "\n",
              "  <div id=\"df-288137e0-8920-4173-8120-3ff7305429e5\">\n",
              "    <div class=\"colab-df-container\">\n",
              "      <div>\n",
              "<style scoped>\n",
              "    .dataframe tbody tr th:only-of-type {\n",
              "        vertical-align: middle;\n",
              "    }\n",
              "\n",
              "    .dataframe tbody tr th {\n",
              "        vertical-align: top;\n",
              "    }\n",
              "\n",
              "    .dataframe thead th {\n",
              "        text-align: right;\n",
              "    }\n",
              "</style>\n",
              "<table border=\"1\" class=\"dataframe\">\n",
              "  <thead>\n",
              "    <tr style=\"text-align: right;\">\n",
              "      <th></th>\n",
              "      <th>Submitted Code</th>\n",
              "      <th>Source Code</th>\n",
              "      <th>Plagiarism (%)</th>\n",
              "    </tr>\n",
              "  </thead>\n",
              "  <tbody>\n",
              "    <tr>\n",
              "      <th>0</th>\n",
              "      <td>code1.py</td>\n",
              "      <td>code2.py</td>\n",
              "      <td>84.55</td>\n",
              "    </tr>\n",
              "    <tr>\n",
              "      <th>1</th>\n",
              "      <td>code2.py</td>\n",
              "      <td>code1.py</td>\n",
              "      <td>84.55</td>\n",
              "    </tr>\n",
              "  </tbody>\n",
              "</table>\n",
              "</div>\n",
              "      <button class=\"colab-df-convert\" onclick=\"convertToInteractive('df-288137e0-8920-4173-8120-3ff7305429e5')\"\n",
              "              title=\"Convert this dataframe to an interactive table.\"\n",
              "              style=\"display:none;\">\n",
              "        \n",
              "  <svg xmlns=\"http://www.w3.org/2000/svg\" height=\"24px\"viewBox=\"0 0 24 24\"\n",
              "       width=\"24px\">\n",
              "    <path d=\"M0 0h24v24H0V0z\" fill=\"none\"/>\n",
              "    <path d=\"M18.56 5.44l.94 2.06.94-2.06 2.06-.94-2.06-.94-.94-2.06-.94 2.06-2.06.94zm-11 1L8.5 8.5l.94-2.06 2.06-.94-2.06-.94L8.5 2.5l-.94 2.06-2.06.94zm10 10l.94 2.06.94-2.06 2.06-.94-2.06-.94-.94-2.06-.94 2.06-2.06.94z\"/><path d=\"M17.41 7.96l-1.37-1.37c-.4-.4-.92-.59-1.43-.59-.52 0-1.04.2-1.43.59L10.3 9.45l-7.72 7.72c-.78.78-.78 2.05 0 2.83L4 21.41c.39.39.9.59 1.41.59.51 0 1.02-.2 1.41-.59l7.78-7.78 2.81-2.81c.8-.78.8-2.07 0-2.86zM5.41 20L4 18.59l7.72-7.72 1.47 1.35L5.41 20z\"/>\n",
              "  </svg>\n",
              "      </button>\n",
              "      \n",
              "  <style>\n",
              "    .colab-df-container {\n",
              "      display:flex;\n",
              "      flex-wrap:wrap;\n",
              "      gap: 12px;\n",
              "    }\n",
              "\n",
              "    .colab-df-convert {\n",
              "      background-color: #E8F0FE;\n",
              "      border: none;\n",
              "      border-radius: 50%;\n",
              "      cursor: pointer;\n",
              "      display: none;\n",
              "      fill: #1967D2;\n",
              "      height: 32px;\n",
              "      padding: 0 0 0 0;\n",
              "      width: 32px;\n",
              "    }\n",
              "\n",
              "    .colab-df-convert:hover {\n",
              "      background-color: #E2EBFA;\n",
              "      box-shadow: 0px 1px 2px rgba(60, 64, 67, 0.3), 0px 1px 3px 1px rgba(60, 64, 67, 0.15);\n",
              "      fill: #174EA6;\n",
              "    }\n",
              "\n",
              "    [theme=dark] .colab-df-convert {\n",
              "      background-color: #3B4455;\n",
              "      fill: #D2E3FC;\n",
              "    }\n",
              "\n",
              "    [theme=dark] .colab-df-convert:hover {\n",
              "      background-color: #434B5C;\n",
              "      box-shadow: 0px 1px 3px 1px rgba(0, 0, 0, 0.15);\n",
              "      filter: drop-shadow(0px 1px 2px rgba(0, 0, 0, 0.3));\n",
              "      fill: #FFFFFF;\n",
              "    }\n",
              "  </style>\n",
              "\n",
              "      <script>\n",
              "        const buttonEl =\n",
              "          document.querySelector('#df-288137e0-8920-4173-8120-3ff7305429e5 button.colab-df-convert');\n",
              "        buttonEl.style.display =\n",
              "          google.colab.kernel.accessAllowed ? 'block' : 'none';\n",
              "\n",
              "        async function convertToInteractive(key) {\n",
              "          const element = document.querySelector('#df-288137e0-8920-4173-8120-3ff7305429e5');\n",
              "          const dataTable =\n",
              "            await google.colab.kernel.invokeFunction('convertToInteractive',\n",
              "                                                     [key], {});\n",
              "          if (!dataTable) return;\n",
              "\n",
              "          const docLinkHtml = 'Like what you see? Visit the ' +\n",
              "            '<a target=\"_blank\" href=https://colab.research.google.com/notebooks/data_table.ipynb>data table notebook</a>'\n",
              "            + ' to learn more about interactive tables.';\n",
              "          element.innerHTML = '';\n",
              "          dataTable['output_type'] = 'display_data';\n",
              "          await google.colab.output.renderOutput(dataTable, element);\n",
              "          const docLink = document.createElement('div');\n",
              "          docLink.innerHTML = docLinkHtml;\n",
              "          element.appendChild(docLink);\n",
              "        }\n",
              "      </script>\n",
              "    </div>\n",
              "  </div>\n",
              "  "
            ]
          },
          "metadata": {},
          "execution_count": 42
        }
      ]
    },
    {
      "cell_type": "code",
      "source": [
        "trigger_moss(FACTORIAL_TEST)\n"
      ],
      "metadata": {
        "colab": {
          "base_uri": "https://localhost:8080/",
          "height": 206
        },
        "id": "B3oqGXDGSUVD",
        "outputId": "2d7ae803-edbb-4496-9e53-81a5d0fbfb43"
      },
      "execution_count": 43,
      "outputs": [
        {
          "output_type": "execute_result",
          "data": {
            "text/plain": [
              "  Submitted Code Source Code  Plagiarism (%)\n",
              "0      fact1.txt   fact4.txt           93.55\n",
              "1      fact4.txt   fact1.txt           93.55\n",
              "2      fact5.txt   fact4.txt           72.65\n",
              "3      fact3.txt   fact1.txt           71.88\n",
              "4      fact2.txt   fact1.txt           66.41"
            ],
            "text/html": [
              "\n",
              "  <div id=\"df-ba9979a7-d6d6-415b-9c5a-c849ce610a5a\">\n",
              "    <div class=\"colab-df-container\">\n",
              "      <div>\n",
              "<style scoped>\n",
              "    .dataframe tbody tr th:only-of-type {\n",
              "        vertical-align: middle;\n",
              "    }\n",
              "\n",
              "    .dataframe tbody tr th {\n",
              "        vertical-align: top;\n",
              "    }\n",
              "\n",
              "    .dataframe thead th {\n",
              "        text-align: right;\n",
              "    }\n",
              "</style>\n",
              "<table border=\"1\" class=\"dataframe\">\n",
              "  <thead>\n",
              "    <tr style=\"text-align: right;\">\n",
              "      <th></th>\n",
              "      <th>Submitted Code</th>\n",
              "      <th>Source Code</th>\n",
              "      <th>Plagiarism (%)</th>\n",
              "    </tr>\n",
              "  </thead>\n",
              "  <tbody>\n",
              "    <tr>\n",
              "      <th>0</th>\n",
              "      <td>fact1.txt</td>\n",
              "      <td>fact4.txt</td>\n",
              "      <td>93.55</td>\n",
              "    </tr>\n",
              "    <tr>\n",
              "      <th>1</th>\n",
              "      <td>fact4.txt</td>\n",
              "      <td>fact1.txt</td>\n",
              "      <td>93.55</td>\n",
              "    </tr>\n",
              "    <tr>\n",
              "      <th>2</th>\n",
              "      <td>fact5.txt</td>\n",
              "      <td>fact4.txt</td>\n",
              "      <td>72.65</td>\n",
              "    </tr>\n",
              "    <tr>\n",
              "      <th>3</th>\n",
              "      <td>fact3.txt</td>\n",
              "      <td>fact1.txt</td>\n",
              "      <td>71.88</td>\n",
              "    </tr>\n",
              "    <tr>\n",
              "      <th>4</th>\n",
              "      <td>fact2.txt</td>\n",
              "      <td>fact1.txt</td>\n",
              "      <td>66.41</td>\n",
              "    </tr>\n",
              "  </tbody>\n",
              "</table>\n",
              "</div>\n",
              "      <button class=\"colab-df-convert\" onclick=\"convertToInteractive('df-ba9979a7-d6d6-415b-9c5a-c849ce610a5a')\"\n",
              "              title=\"Convert this dataframe to an interactive table.\"\n",
              "              style=\"display:none;\">\n",
              "        \n",
              "  <svg xmlns=\"http://www.w3.org/2000/svg\" height=\"24px\"viewBox=\"0 0 24 24\"\n",
              "       width=\"24px\">\n",
              "    <path d=\"M0 0h24v24H0V0z\" fill=\"none\"/>\n",
              "    <path d=\"M18.56 5.44l.94 2.06.94-2.06 2.06-.94-2.06-.94-.94-2.06-.94 2.06-2.06.94zm-11 1L8.5 8.5l.94-2.06 2.06-.94-2.06-.94L8.5 2.5l-.94 2.06-2.06.94zm10 10l.94 2.06.94-2.06 2.06-.94-2.06-.94-.94-2.06-.94 2.06-2.06.94z\"/><path d=\"M17.41 7.96l-1.37-1.37c-.4-.4-.92-.59-1.43-.59-.52 0-1.04.2-1.43.59L10.3 9.45l-7.72 7.72c-.78.78-.78 2.05 0 2.83L4 21.41c.39.39.9.59 1.41.59.51 0 1.02-.2 1.41-.59l7.78-7.78 2.81-2.81c.8-.78.8-2.07 0-2.86zM5.41 20L4 18.59l7.72-7.72 1.47 1.35L5.41 20z\"/>\n",
              "  </svg>\n",
              "      </button>\n",
              "      \n",
              "  <style>\n",
              "    .colab-df-container {\n",
              "      display:flex;\n",
              "      flex-wrap:wrap;\n",
              "      gap: 12px;\n",
              "    }\n",
              "\n",
              "    .colab-df-convert {\n",
              "      background-color: #E8F0FE;\n",
              "      border: none;\n",
              "      border-radius: 50%;\n",
              "      cursor: pointer;\n",
              "      display: none;\n",
              "      fill: #1967D2;\n",
              "      height: 32px;\n",
              "      padding: 0 0 0 0;\n",
              "      width: 32px;\n",
              "    }\n",
              "\n",
              "    .colab-df-convert:hover {\n",
              "      background-color: #E2EBFA;\n",
              "      box-shadow: 0px 1px 2px rgba(60, 64, 67, 0.3), 0px 1px 3px 1px rgba(60, 64, 67, 0.15);\n",
              "      fill: #174EA6;\n",
              "    }\n",
              "\n",
              "    [theme=dark] .colab-df-convert {\n",
              "      background-color: #3B4455;\n",
              "      fill: #D2E3FC;\n",
              "    }\n",
              "\n",
              "    [theme=dark] .colab-df-convert:hover {\n",
              "      background-color: #434B5C;\n",
              "      box-shadow: 0px 1px 3px 1px rgba(0, 0, 0, 0.15);\n",
              "      filter: drop-shadow(0px 1px 2px rgba(0, 0, 0, 0.3));\n",
              "      fill: #FFFFFF;\n",
              "    }\n",
              "  </style>\n",
              "\n",
              "      <script>\n",
              "        const buttonEl =\n",
              "          document.querySelector('#df-ba9979a7-d6d6-415b-9c5a-c849ce610a5a button.colab-df-convert');\n",
              "        buttonEl.style.display =\n",
              "          google.colab.kernel.accessAllowed ? 'block' : 'none';\n",
              "\n",
              "        async function convertToInteractive(key) {\n",
              "          const element = document.querySelector('#df-ba9979a7-d6d6-415b-9c5a-c849ce610a5a');\n",
              "          const dataTable =\n",
              "            await google.colab.kernel.invokeFunction('convertToInteractive',\n",
              "                                                     [key], {});\n",
              "          if (!dataTable) return;\n",
              "\n",
              "          const docLinkHtml = 'Like what you see? Visit the ' +\n",
              "            '<a target=\"_blank\" href=https://colab.research.google.com/notebooks/data_table.ipynb>data table notebook</a>'\n",
              "            + ' to learn more about interactive tables.';\n",
              "          element.innerHTML = '';\n",
              "          dataTable['output_type'] = 'display_data';\n",
              "          await google.colab.output.renderOutput(dataTable, element);\n",
              "          const docLink = document.createElement('div');\n",
              "          docLink.innerHTML = docLinkHtml;\n",
              "          element.appendChild(docLink);\n",
              "        }\n",
              "      </script>\n",
              "    </div>\n",
              "  </div>\n",
              "  "
            ]
          },
          "metadata": {},
          "execution_count": 43
        }
      ]
    },
    {
      "cell_type": "code",
      "source": [
        "trigger_moss(LINKED_LIST_TEST)\n"
      ],
      "metadata": {
        "colab": {
          "base_uri": "https://localhost:8080/",
          "height": 175
        },
        "id": "Rtxg_OdlTG_Z",
        "outputId": "472d4fa3-d8c9-42e7-e058-9143458c72f5"
      },
      "execution_count": 44,
      "outputs": [
        {
          "output_type": "execute_result",
          "data": {
            "text/plain": [
              "      Submitted Code        Source Code  Plagiarism (%)\n",
              "0  linked_list_1.txt  linked_list_3.txt           68.98\n",
              "1  linked_list_3.txt  linked_list_1.txt           68.98\n",
              "2  linked_list_2.txt  linked_list_3.txt           44.31\n",
              "3  linked_list_4.txt  linked_list_2.txt           26.72"
            ],
            "text/html": [
              "\n",
              "  <div id=\"df-d0e7f4e7-9572-4b78-b453-9b3dd76922f7\">\n",
              "    <div class=\"colab-df-container\">\n",
              "      <div>\n",
              "<style scoped>\n",
              "    .dataframe tbody tr th:only-of-type {\n",
              "        vertical-align: middle;\n",
              "    }\n",
              "\n",
              "    .dataframe tbody tr th {\n",
              "        vertical-align: top;\n",
              "    }\n",
              "\n",
              "    .dataframe thead th {\n",
              "        text-align: right;\n",
              "    }\n",
              "</style>\n",
              "<table border=\"1\" class=\"dataframe\">\n",
              "  <thead>\n",
              "    <tr style=\"text-align: right;\">\n",
              "      <th></th>\n",
              "      <th>Submitted Code</th>\n",
              "      <th>Source Code</th>\n",
              "      <th>Plagiarism (%)</th>\n",
              "    </tr>\n",
              "  </thead>\n",
              "  <tbody>\n",
              "    <tr>\n",
              "      <th>0</th>\n",
              "      <td>linked_list_1.txt</td>\n",
              "      <td>linked_list_3.txt</td>\n",
              "      <td>68.98</td>\n",
              "    </tr>\n",
              "    <tr>\n",
              "      <th>1</th>\n",
              "      <td>linked_list_3.txt</td>\n",
              "      <td>linked_list_1.txt</td>\n",
              "      <td>68.98</td>\n",
              "    </tr>\n",
              "    <tr>\n",
              "      <th>2</th>\n",
              "      <td>linked_list_2.txt</td>\n",
              "      <td>linked_list_3.txt</td>\n",
              "      <td>44.31</td>\n",
              "    </tr>\n",
              "    <tr>\n",
              "      <th>3</th>\n",
              "      <td>linked_list_4.txt</td>\n",
              "      <td>linked_list_2.txt</td>\n",
              "      <td>26.72</td>\n",
              "    </tr>\n",
              "  </tbody>\n",
              "</table>\n",
              "</div>\n",
              "      <button class=\"colab-df-convert\" onclick=\"convertToInteractive('df-d0e7f4e7-9572-4b78-b453-9b3dd76922f7')\"\n",
              "              title=\"Convert this dataframe to an interactive table.\"\n",
              "              style=\"display:none;\">\n",
              "        \n",
              "  <svg xmlns=\"http://www.w3.org/2000/svg\" height=\"24px\"viewBox=\"0 0 24 24\"\n",
              "       width=\"24px\">\n",
              "    <path d=\"M0 0h24v24H0V0z\" fill=\"none\"/>\n",
              "    <path d=\"M18.56 5.44l.94 2.06.94-2.06 2.06-.94-2.06-.94-.94-2.06-.94 2.06-2.06.94zm-11 1L8.5 8.5l.94-2.06 2.06-.94-2.06-.94L8.5 2.5l-.94 2.06-2.06.94zm10 10l.94 2.06.94-2.06 2.06-.94-2.06-.94-.94-2.06-.94 2.06-2.06.94z\"/><path d=\"M17.41 7.96l-1.37-1.37c-.4-.4-.92-.59-1.43-.59-.52 0-1.04.2-1.43.59L10.3 9.45l-7.72 7.72c-.78.78-.78 2.05 0 2.83L4 21.41c.39.39.9.59 1.41.59.51 0 1.02-.2 1.41-.59l7.78-7.78 2.81-2.81c.8-.78.8-2.07 0-2.86zM5.41 20L4 18.59l7.72-7.72 1.47 1.35L5.41 20z\"/>\n",
              "  </svg>\n",
              "      </button>\n",
              "      \n",
              "  <style>\n",
              "    .colab-df-container {\n",
              "      display:flex;\n",
              "      flex-wrap:wrap;\n",
              "      gap: 12px;\n",
              "    }\n",
              "\n",
              "    .colab-df-convert {\n",
              "      background-color: #E8F0FE;\n",
              "      border: none;\n",
              "      border-radius: 50%;\n",
              "      cursor: pointer;\n",
              "      display: none;\n",
              "      fill: #1967D2;\n",
              "      height: 32px;\n",
              "      padding: 0 0 0 0;\n",
              "      width: 32px;\n",
              "    }\n",
              "\n",
              "    .colab-df-convert:hover {\n",
              "      background-color: #E2EBFA;\n",
              "      box-shadow: 0px 1px 2px rgba(60, 64, 67, 0.3), 0px 1px 3px 1px rgba(60, 64, 67, 0.15);\n",
              "      fill: #174EA6;\n",
              "    }\n",
              "\n",
              "    [theme=dark] .colab-df-convert {\n",
              "      background-color: #3B4455;\n",
              "      fill: #D2E3FC;\n",
              "    }\n",
              "\n",
              "    [theme=dark] .colab-df-convert:hover {\n",
              "      background-color: #434B5C;\n",
              "      box-shadow: 0px 1px 3px 1px rgba(0, 0, 0, 0.15);\n",
              "      filter: drop-shadow(0px 1px 2px rgba(0, 0, 0, 0.3));\n",
              "      fill: #FFFFFF;\n",
              "    }\n",
              "  </style>\n",
              "\n",
              "      <script>\n",
              "        const buttonEl =\n",
              "          document.querySelector('#df-d0e7f4e7-9572-4b78-b453-9b3dd76922f7 button.colab-df-convert');\n",
              "        buttonEl.style.display =\n",
              "          google.colab.kernel.accessAllowed ? 'block' : 'none';\n",
              "\n",
              "        async function convertToInteractive(key) {\n",
              "          const element = document.querySelector('#df-d0e7f4e7-9572-4b78-b453-9b3dd76922f7');\n",
              "          const dataTable =\n",
              "            await google.colab.kernel.invokeFunction('convertToInteractive',\n",
              "                                                     [key], {});\n",
              "          if (!dataTable) return;\n",
              "\n",
              "          const docLinkHtml = 'Like what you see? Visit the ' +\n",
              "            '<a target=\"_blank\" href=https://colab.research.google.com/notebooks/data_table.ipynb>data table notebook</a>'\n",
              "            + ' to learn more about interactive tables.';\n",
              "          element.innerHTML = '';\n",
              "          dataTable['output_type'] = 'display_data';\n",
              "          await google.colab.output.renderOutput(dataTable, element);\n",
              "          const docLink = document.createElement('div');\n",
              "          docLink.innerHTML = docLinkHtml;\n",
              "          element.appendChild(docLink);\n",
              "        }\n",
              "      </script>\n",
              "    </div>\n",
              "  </div>\n",
              "  "
            ]
          },
          "metadata": {},
          "execution_count": 44
        }
      ]
    },
    {
      "cell_type": "code",
      "source": [
        ""
      ],
      "metadata": {
        "id": "hgvThFclMQ7u"
      },
      "execution_count": 52,
      "outputs": []
    },
    {
      "cell_type": "code",
      "source": [
        ""
      ],
      "metadata": {
        "id": "y2sQhgGxIfR1"
      },
      "execution_count": 19,
      "outputs": []
    },
    {
      "cell_type": "markdown",
      "source": [
        "# Display the Originality Report"
      ],
      "metadata": {
        "id": "nFUP0oT1MvST"
      }
    },
    {
      "cell_type": "code",
      "source": [
        "# Min vs Avg of all???"
      ],
      "metadata": {
        "id": "o71LX6s0NRkT"
      },
      "execution_count": null,
      "outputs": []
    },
    {
      "cell_type": "code",
      "source": [
        "plagiarism_logs = trigger_moss(LINKED_LIST_TEST, True)\n",
        "\n",
        "# Display the important results\n",
        "plagiarism_logs.groupby(['Submitted Code'], sort=True)['Plagiarism (%)'].mean()\n",
        "# .sort_values(by=['Plagiarism (%)']).reset_index(drop=True)"
      ],
      "metadata": {
        "colab": {
          "base_uri": "https://localhost:8080/"
        },
        "id": "usuDy2Z2MtyJ",
        "outputId": "6e4bfc38-fcbe-4cf4-8688-f881f8723f95"
      },
      "execution_count": 24,
      "outputs": [
        {
          "output_type": "execute_result",
          "data": {
            "text/plain": [
              "Submitted Code\n",
              "linked_list_1.txt    43.826667\n",
              "linked_list_2.txt    38.240000\n",
              "linked_list_3.txt    43.596667\n",
              "linked_list_4.txt    21.010000\n",
              "Name: Plagiarism (%), dtype: float64"
            ]
          },
          "metadata": {},
          "execution_count": 24
        }
      ]
    },
    {
      "cell_type": "code",
      "source": [
        ""
      ],
      "metadata": {
        "id": "_FOIOhSFMt0S"
      },
      "execution_count": null,
      "outputs": []
    },
    {
      "cell_type": "code",
      "source": [
        ""
      ],
      "metadata": {
        "id": "EzzCt9fFMt3w"
      },
      "execution_count": null,
      "outputs": []
    },
    {
      "cell_type": "code",
      "source": [
        ""
      ],
      "metadata": {
        "id": "DilRRH-UMuAy"
      },
      "execution_count": null,
      "outputs": []
    },
    {
      "cell_type": "code",
      "source": [
        ""
      ],
      "metadata": {
        "id": "w_unw9c8MuDE"
      },
      "execution_count": null,
      "outputs": []
    },
    {
      "cell_type": "code",
      "source": [
        ""
      ],
      "metadata": {
        "id": "VGsPwNctMuGd"
      },
      "execution_count": null,
      "outputs": []
    },
    {
      "cell_type": "code",
      "source": [
        "# Read the two text files\n",
        "code_1 = scan_and_return_text('fact1.txt')\n",
        "code_2 = scan_and_return_text('fact2.txt')\n",
        "\n",
        "# Display the codes\n",
        "# display_code(code_1)\n",
        "# display_code(code_2)\n",
        "\n",
        "# Pre-process the codes\n",
        "clean_code_1 = preprocess_code(code_1)\n",
        "clean_code_2 = preprocess_code(code_2)\n"
      ],
      "metadata": {
        "id": "bMBnDEC6aq-0"
      },
      "execution_count": null,
      "outputs": []
    },
    {
      "cell_type": "code",
      "source": [
        "clean_code_1"
      ],
      "metadata": {
        "colab": {
          "base_uri": "https://localhost:8080/",
          "height": 53
        },
        "id": "al9VOxhhnqz6",
        "outputId": "e09b6a4b-b010-445d-a5d4-9921b3999ae4"
      },
      "execution_count": null,
      "outputs": [
        {
          "output_type": "execute_result",
          "data": {
            "text/plain": [
              "'Python3programtofind#factorialofgivennumberdeffactorial(n):#singlelinetofindfactorialreturn1if(n==1orn==0)elsen*factorial(n-1);#DriverCodenum=5;print(\"Factorialof\",num,\"is\",factorial(num))'"
            ],
            "application/vnd.google.colaboratory.intrinsic+json": {
              "type": "string"
            }
          },
          "metadata": {},
          "execution_count": 13
        }
      ]
    },
    {
      "cell_type": "code",
      "source": [
        "clean_code_2"
      ],
      "metadata": {
        "colab": {
          "base_uri": "https://localhost:8080/",
          "height": 53
        },
        "id": "bl4LamV-nq1v",
        "outputId": "bfb1990a-e81c-4a77-8894-2e0b49a484f9"
      },
      "execution_count": null,
      "outputs": [
        {
          "output_type": "execute_result",
          "data": {
            "text/plain": [
              "'#Python3programtofind#factorialofgivennumberdeffactorial(n):ifn<0:return0elifn==0orn==1:return1else:fact=1while(n>1):fact*=nn-=1returnfact#DriverCodenum=5;print(\"Factorialof\",num,\"is\",factorial(num))'"
            ],
            "application/vnd.google.colaboratory.intrinsic+json": {
              "type": "string"
            }
          },
          "metadata": {},
          "execution_count": 14
        }
      ]
    },
    {
      "cell_type": "code",
      "source": [
        "# Previous Results: \n",
        "# ------------------------------------------------------------\n",
        "\n",
        "# <<< On removing newline and whitespace >>>\n",
        "\n",
        "# Total Fingerprints in Code 1: 397\n",
        "# Total Unique Fingerprints in Code 1: 184\n",
        "# Total Fingerprints in Code 2: 276\n",
        "# Total Unique Fingerprints in Code 2: 122\n",
        "# ----------------------------------------------------\n",
        "# Code 1 Fingerprints present in Code 2: 293\n",
        "# Code 2 Fingerprints present in Code 1: 276\n",
        "# Total Common Unique Fingerprints: 122\n",
        "# ----------------------------------------------------\n",
        "# Plagiarism Report: 84.55% Match\n",
        "\n",
        "# ------------------------------------------------------------\n",
        "\n",
        "# <<< On Raw Code >>>\n",
        "\n",
        "# Total Fingerprints in Code 1: 749\n",
        "# Total Unique Fingerprints in Code 1: 215\n",
        "# Total Fingerprints in Code 2: 606\n",
        "# Total Unique Fingerprints in Code 2: 149\n",
        "# ----------------------------------------------------\n",
        "# Code 1 Fingerprints present in Code 2: 638\n",
        "# Code 2 Fingerprints present in Code 1: 606\n",
        "# Total Common Unique Fingerprints: 149\n",
        "# ----------------------------------------------------\n",
        "# Plagiarism Report: 91.81% Match\n",
        "# ------------------------------------------------------------"
      ],
      "metadata": {
        "id": "J4txkXSwWKIo"
      },
      "execution_count": null,
      "outputs": []
    },
    {
      "cell_type": "code",
      "source": [
        "code_1"
      ],
      "metadata": {
        "colab": {
          "base_uri": "https://localhost:8080/"
        },
        "id": "Rl1BpkEbQm2r",
        "outputId": "bd6ad0ca-3242-45a4-be6a-7a245d7ea81c"
      },
      "execution_count": null,
      "outputs": [
        {
          "output_type": "execute_result",
          "data": {
            "text/plain": [
              "['import math\\n',\n",
              " 'def dist2(p1,p2):\\n',\n",
              " '    d=math.sqrt(((p1[0]-p2[0])**2 + (p1[1]-p2[1])**2))\\n',\n",
              " '    return d\\n',\n",
              " 'def dist3(p1,p2,p3):\\n',\n",
              " '    d1=math.sqrt(((p1[0]-p2[0])**2 + (p1[1]-p2[1])**2))\\n',\n",
              " '    d2=math.sqrt(((p1[0]-p3[0])**2 + (p1[1]-p3[1])**2))\\n',\n",
              " '    d=d1+d2\\n',\n",
              " '    return d\\n',\n",
              " 'def largest_rectangle():\\n',\n",
              " '    l1=[]\\n',\n",
              " '    l2=[]\\n',\n",
              " '    for i in range(n):\\n',\n",
              " '        for j in range(i, n):\\n',\n",
              " '            for k in range(j,n):\\n',\n",
              " '                if points[i][0]==points[j][0] and points[i][1]==points[k][1]:\\n',\n",
              " '                    x1=points[k][0]\\n',\n",
              " '                    y1=points[j][1]\\n',\n",
              " '                    if (x1,y1) in points:\\n',\n",
              " '                        d=dist3(points[i], points[j], points[k])\\n',\n",
              " '                        l1=[points[i], points[j], points[k], (x1,y1), d]\\n',\n",
              " '                        l2.append(l1)\\n',\n",
              " '    l2=sorted(l2, key=lambda x:x[-1], reverse=True)\\n',\n",
              " '    print(l2[0])\\n',\n",
              " 'def largest_square():\\n',\n",
              " '    l1=[]\\n',\n",
              " '    l2=[]\\n',\n",
              " '    for i in range(n):\\n',\n",
              " '        for j in range(i, n):\\n',\n",
              " '            for k in range(j,n):\\n',\n",
              " '                if points[i][0]==points[j][0] and points[i][1]==points[k][1] and dist2(points[i], points[j])==dist2(points[i], points[k]):\\n',\n",
              " '                    x1=points[k][0]\\n',\n",
              " '                    y1=points[j][1]\\n',\n",
              " '                    if (x1,y1) in points:\\n',\n",
              " '                        d=dist3(points[i], points[j], points[k])\\n',\n",
              " '                        l1=[points[i], points[j], points[k], (x1,y1), d]\\n',\n",
              " '                        l2.append(l1)\\n',\n",
              " '    l2=sorted(l2, key=lambda x:x[-1], reverse=True)\\n',\n",
              " '    if l2[0][-1]==0:\\n',\n",
              " \"        print('No square.')\\n\",\n",
              " '    else:\\n',\n",
              " '        print(l2[0])\\n',\n",
              " '\\n',\n",
              " 'n=int(input())\\n',\n",
              " 'points=[]\\n',\n",
              " 'for i in range(n):\\n',\n",
              " '    x=int(input())\\n',\n",
              " '    y=int(input())\\n',\n",
              " '    points.append((x,y))\\n',\n",
              " 'largest_rectangle()\\n',\n",
              " 'largest_square()\\n']"
            ]
          },
          "metadata": {},
          "execution_count": 21
        }
      ]
    },
    {
      "cell_type": "code",
      "source": [
        "clean_code_1"
      ],
      "metadata": {
        "colab": {
          "base_uri": "https://localhost:8080/",
          "height": 158
        },
        "id": "_mi0gq8MWKVT",
        "outputId": "eb65d9a2-f732-4406-8e18-c0e4634ebd0f"
      },
      "execution_count": null,
      "outputs": [
        {
          "output_type": "execute_result",
          "data": {
            "text/plain": [
              "\"importmathdefdist2(p1,p2):d=math.sqrt(((p1[0]-p2[0])**2+(p1[1]-p2[1])**2))returnddefdist3(p1,p2,p3):d1=math.sqrt(((p1[0]-p2[0])**2+(p1[1]-p2[1])**2))d2=math.sqrt(((p1[0]-p3[0])**2+(p1[1]-p3[1])**2))d=d1+d2returnddeflargest_rectangle():l1=[]l2=[]foriinrange(n):forjinrange(i,n):forkinrange(j,n):ifpoints[i][0]==points[j][0]andpoints[i][1]==points[k][1]:x1=points[k][0]y1=points[j][1]if(x1,y1)inpoints:d=dist3(points[i],points[j],points[k])l1=[points[i],points[j],points[k],(x1,y1),d]l2.append(l1)l2=sorted(l2,key=lambdax:x[-1],reverse=True)print(l2[0])deflargest_square():l1=[]l2=[]foriinrange(n):forjinrange(i,n):forkinrange(j,n):ifpoints[i][0]==points[j][0]andpoints[i][1]==points[k][1]anddist2(points[i],points[j])==dist2(points[i],points[k]):x1=points[k][0]y1=points[j][1]if(x1,y1)inpoints:d=dist3(points[i],points[j],points[k])l1=[points[i],points[j],points[k],(x1,y1),d]l2.append(l1)l2=sorted(l2,key=lambdax:x[-1],reverse=True)ifl2[0][-1]==0:print('Nosquare.')else:print(l2[0])n=int(input())points=[]foriinrange(n):x=int(input())y=int(input())points.append((x,y))largest_rectangle()largest_square()\""
            ],
            "application/vnd.google.colaboratory.intrinsic+json": {
              "type": "string"
            }
          },
          "metadata": {},
          "execution_count": 20
        }
      ]
    },
    {
      "cell_type": "code",
      "source": [
        "xx = clean_code_1.split('==')\n",
        "for i in xx:\n",
        "  print(i.split('='))"
      ],
      "metadata": {
        "colab": {
          "base_uri": "https://localhost:8080/"
        },
        "id": "ufax4eWOWKQ0",
        "outputId": "56289a3e-0eca-40d7-f820-9aae7b46c9c8"
      },
      "execution_count": null,
      "outputs": [
        {
          "output_type": "stream",
          "name": "stdout",
          "text": [
            "['importmathdefdist2(p1,p2):d', 'math.sqrt(((p1[0]-p2[0])**2+(p1[1]-p2[1])**2))returnddefdist3(p1,p2,p3):d1', 'math.sqrt(((p1[0]-p2[0])**2+(p1[1]-p2[1])**2))d2', 'math.sqrt(((p1[0]-p3[0])**2+(p1[1]-p3[1])**2))d', 'd1+d2returnddeflargest_rectangle():l1', '[]l2', '[]foriinrange(n):forjinrange(i,n):forkinrange(j,n):ifpoints[i][0]']\n",
            "['points[j][0]andpoints[i][1]']\n",
            "['points[k][1]:x1', 'points[k][0]y1', 'points[j][1]if(x1,y1)inpoints:d', 'dist3(points[i],points[j],points[k])l1', '[points[i],points[j],points[k],(x1,y1),d]l2.append(l1)l2', 'sorted(l2,key', 'lambdax:x[-1],reverse', 'True)print(l2[0])deflargest_square():l1', '[]l2', '[]foriinrange(n):forjinrange(i,n):forkinrange(j,n):ifpoints[i][0]']\n",
            "['points[j][0]andpoints[i][1]']\n",
            "['points[k][1]anddist2(points[i],points[j])']\n",
            "['dist2(points[i],points[k]):x1', 'points[k][0]y1', 'points[j][1]if(x1,y1)inpoints:d', 'dist3(points[i],points[j],points[k])l1', '[points[i],points[j],points[k],(x1,y1),d]l2.append(l1)l2', 'sorted(l2,key', 'lambdax:x[-1],reverse', 'True)ifl2[0][-1]']\n",
            "[\"0:print('Nosquare.')else:print(l2[0])n\", 'int(input())points', '[]foriinrange(n):x', 'int(input())y', 'int(input())points.append((x,y))largest_rectangle()largest_square()']\n"
          ]
        }
      ]
    },
    {
      "cell_type": "code",
      "source": [
        ""
      ],
      "metadata": {
        "id": "UY1EuE2EWKWQ"
      },
      "execution_count": null,
      "outputs": []
    },
    {
      "cell_type": "code",
      "source": [
        ""
      ],
      "metadata": {
        "id": "I_BlofQMWKXM"
      },
      "execution_count": null,
      "outputs": []
    },
    {
      "cell_type": "code",
      "source": [
        ""
      ],
      "metadata": {
        "id": "mBTJM2pFWKYW"
      },
      "execution_count": null,
      "outputs": []
    },
    {
      "cell_type": "code",
      "source": [
        ""
      ],
      "metadata": {
        "id": "67GrL_RnWKZQ"
      },
      "execution_count": null,
      "outputs": []
    },
    {
      "cell_type": "code",
      "source": [
        "def generate_hash_values_using_sha_1_encoding(content):\n",
        "  '''\n",
        "  Generate hash values using SHA-1 encoding\n",
        "  '''\n",
        "  encoded_text = content.encode('utf-8')\n",
        "  print(encoded_text)\n",
        "\n",
        "  hash_text = hl.sha1(encoded_text)\n",
        "  print(hash_text)\n",
        "  \n",
        "  # Generate the equivalent 40-bit hexadecimal code\n",
        "  hex_encryption = hash_text.hexdigest()\n",
        "  print(hex_encryption)\n",
        "\n",
        "  print(hex_encryption[-4:])\n",
        "\n",
        "  print(int(hex_encryption[-4:], 16))\n",
        "\n",
        "\n",
        "  return\n",
        "  \n",
        "\n",
        "\n",
        "generate_hash_values_using_sha_1_encoding('abaofjnafn')\n"
      ],
      "metadata": {
        "colab": {
          "base_uri": "https://localhost:8080/"
        },
        "id": "LMQHihLeo8fl",
        "outputId": "ec90e662-999a-4505-ec16-40feb876b45f"
      },
      "execution_count": null,
      "outputs": [
        {
          "output_type": "stream",
          "name": "stdout",
          "text": [
            "b'abaofjnafn'\n",
            "<sha1 HASH object @ 0x7fab4843f4b0>\n",
            "cf6035a14999753e6b44ab4f2eebe6d764bd9c4d\n",
            "9c4d\n",
            "40013\n"
          ]
        }
      ]
    },
    {
      "cell_type": "code",
      "source": [
        "int('1', 16)"
      ],
      "metadata": {
        "colab": {
          "base_uri": "https://localhost:8080/"
        },
        "id": "jNdsQ7fDo8iv",
        "outputId": "b19fd937-0a51-4dad-dcee-3aa55ffc802d"
      },
      "execution_count": null,
      "outputs": [
        {
          "output_type": "execute_result",
          "data": {
            "text/plain": [
              "1"
            ]
          },
          "metadata": {},
          "execution_count": 19
        }
      ]
    },
    {
      "cell_type": "code",
      "source": [
        ""
      ],
      "metadata": {
        "id": "V9h5UqYho8jp"
      },
      "execution_count": null,
      "outputs": []
    },
    {
      "cell_type": "code",
      "source": [
        ""
      ],
      "metadata": {
        "id": "_FyoJQnWo8kc"
      },
      "execution_count": null,
      "outputs": []
    },
    {
      "cell_type": "code",
      "source": [
        ""
      ],
      "metadata": {
        "id": "b-jJZLX8o8lD"
      },
      "execution_count": null,
      "outputs": []
    },
    {
      "cell_type": "code",
      "source": [
        ""
      ],
      "metadata": {
        "id": "Kt4RCAH3o8mS"
      },
      "execution_count": null,
      "outputs": []
    },
    {
      "cell_type": "code",
      "source": [
        "import pygments.token\n",
        "import pygments.lexers\n",
        "import hashlib\n",
        "from cleanUP import *\n",
        "\n",
        "#sha-1 encoding is used to generate hash values\n",
        "def hash(text):\n",
        "    #this function generates hash values\n",
        "    hashval = hashlib.sha1(text.encode('utf-8'))\n",
        "    hashval = hashval.hexdigest()[-4 :]\n",
        "    hashval = int(hashval, 16)  #using last 16 bits of sha-1 digest\n",
        "    return hashval\n",
        "\n",
        "#function to form k-grams out of the cleaned up text\n",
        "def kgrams(text, k = 25):\n",
        "    tokenList = list(text)\n",
        "    n = len(tokenList)\n",
        "    kgrams = []\n",
        "    for i in range(n - k + 1):\n",
        "        kgram = ''.join(tokenList[i : i + k])\n",
        "        hv = hash(kgram)\n",
        "        kgrams.append((kgram, hv, i, i + k))  #k-gram, its hash value, starting and ending positions are stored\n",
        "        #these help in marking the plagiarized content in the original code.\n",
        "    return kgrams\n",
        "\n",
        "#function that returns the index at which minimum value of a given list (window) is located\n",
        "def minIndex(arr):\n",
        "    minI = 0\n",
        "    minV = arr[0]\n",
        "    n = len(arr)\n",
        "    for i in range(n):\n",
        "        if arr[i] < minV:\n",
        "            minV = arr[i]\n",
        "            minI = i\n",
        "    return minI\n",
        "\n",
        "#we form windows of hash values and use min-hash to limit the number of fingerprints\n",
        "def fingerprints(arr, winSize = 4):\n",
        "    arrLen = len(arr)\n",
        "    prevMin = 0\n",
        "    currMin = 0\n",
        "    windows = []\n",
        "    fingerprintList = []\n",
        "    for i in range(arrLen - winSize):\n",
        "        win = arr[i: i + winSize]  #forming windows\n",
        "        windows.append(win)\n",
        "        currMin = i + minIndex(win)\n",
        "        if not currMin == prevMin:  #min value of window is stored only if it is not the same as min value of prev window\n",
        "            fingerprintList.append(arr[currMin])  #reduces the number of fingerprints while maintaining guarantee\n",
        "            prevMin = currMin  #refer to density of winnowing and guarantee threshold (Stanford paper)\n",
        "\n",
        "    return fingerprintList\n",
        "\n",
        "#takes k-gram list as input and returns a list of only hash values\n",
        "def hashList(arr):\n",
        "    HL = []\n",
        "    for i in arr:\n",
        "        HL.append(i[1])\n",
        "\n",
        "    return HL\n",
        "\n",
        "def plagiarismCheck(file1, file2):\n",
        "    f1 = open(file1, \"r\")\n",
        "    token1 = tokenize(file1)  #from cleanUP.py\n",
        "    str1 = toText(token1)\n",
        "    token2 = tokenize(file2)\n",
        "    str2 = toText(token2)\n",
        "    kGrams1 = kgrams(str1)  #stores k-grams, their hash values and positions in cleaned up text\n",
        "    kGrams2 = kgrams(str2)\n",
        "    HL1 = hashList(kGrams1)  #hash list derived from k-grams list\n",
        "    HL2 = hashList(kGrams2)\n",
        "    fpList1 = fingerprints(HL1)\n",
        "    fpList2 = fingerprints(HL2)\n",
        "    start = []   #to store the start values corresponding to matching fingerprints\n",
        "    end = []   #to store end values\n",
        "    code = f1.read()  #original code\n",
        "    newCode = \"\"   #code with marked plagiarized content\n",
        "    points = []\n",
        "    for i in fpList1:\n",
        "        for j in fpList2:\n",
        "            if i == j:   #fingerprints match\n",
        "                flag = 0\n",
        "                match = HL1.index(i)   #index of matching fingerprints in hash list, k-grams list\n",
        "                newStart = kGrams1[match][2]   #start position of matched k-gram in cleaned up code\n",
        "                newEnd = kGrams1[match][3]   #end position\n",
        "                for k in token1:\n",
        "                    if k[2] == newStart:   #linking positions in cleaned up code to original code\n",
        "                        startx = k[1]\n",
        "                        flag = 1\n",
        "                    if k[2] == newEnd:\n",
        "                        endx = k[1]\n",
        "                if flag == 1:\n",
        "                    points.append([startx, endx])\n",
        "    points.sort(key = lambda x: x[0])\n",
        "    points = points[1:]\n",
        "    mergedPoints = []\n",
        "    mergedPoints.append(points[0])\n",
        "    for i in range(1, len(points)):\n",
        "        last = mergedPoints[len(mergedPoints) - 1]\n",
        "        if points[i][0] >= last[0] and points[i][0] <= last[1]: #merging overlapping regions\n",
        "            if points[i][1] > last[1]:\n",
        "                mergedPoints = mergedPoints[: len(mergedPoints)-1]\n",
        "                mergedPoints.append([last[0], points[i][1]])\n",
        "            else:\n",
        "                pass\n",
        "        else:\n",
        "            mergedPoints.append(points[i])\n",
        "    newCode = code[: mergedPoints[0][0]]\n",
        "    plagCount = 0\n",
        "    for i in range(len(mergedPoints)):\n",
        "        if mergedPoints[i][1] > mergedPoints[i][0]:\n",
        "            plagCount += mergedPoints[i][1] - mergedPoints[i][0]\n",
        "            newCode = newCode + '\\x1b[6;30;42m' + code[mergedPoints[i][0] : mergedPoints[i][1]] + '\\x1b[0m'\n",
        "            if i < len(mergedPoints) - 1:\n",
        "                newCode = newCode + code[mergedPoints[i][1] : mergedPoints[i+1][0]]\n",
        "            else:\n",
        "                newCode = newCode + code[mergedPoints[i][1] :]\n",
        "    print(\"Approx ratio of plagiarized content in file 1: \", (plagCount/len(code)))\n",
        "    print(newCode)\n",
        "\n",
        "\n",
        "fn1 = input(\"Enter the path/name of program 1: \")\n",
        "fn2 = input(\"Enter the path/name of program 2: \")\n",
        "plagiarismCheck(fn1, fn2)\n"
      ],
      "metadata": {
        "colab": {
          "base_uri": "https://localhost:8080/",
          "height": 356
        },
        "id": "zJQj2CIGo8n5",
        "outputId": "cc1c40a5-bc45-4887-fbeb-4940c1e08a26"
      },
      "execution_count": null,
      "outputs": [
        {
          "name": "stdout",
          "output_type": "stream",
          "text": [
            "Enter the path/name of program 1: test2.py\n",
            "Enter the path/name of program 2: test3.py\n"
          ]
        },
        {
          "output_type": "error",
          "ename": "UnboundLocalError",
          "evalue": "ignored",
          "traceback": [
            "\u001b[0;31m---------------------------------------------------------------------------\u001b[0m",
            "\u001b[0;31mUnboundLocalError\u001b[0m                         Traceback (most recent call last)",
            "\u001b[0;32m<ipython-input-24-08b483f224d5>\u001b[0m in \u001b[0;36m<module>\u001b[0;34m()\u001b[0m\n\u001b[1;32m    123\u001b[0m \u001b[0mfn1\u001b[0m \u001b[0;34m=\u001b[0m \u001b[0minput\u001b[0m\u001b[0;34m(\u001b[0m\u001b[0;34m\"Enter the path/name of program 1: \"\u001b[0m\u001b[0;34m)\u001b[0m\u001b[0;34m\u001b[0m\u001b[0;34m\u001b[0m\u001b[0m\n\u001b[1;32m    124\u001b[0m \u001b[0mfn2\u001b[0m \u001b[0;34m=\u001b[0m \u001b[0minput\u001b[0m\u001b[0;34m(\u001b[0m\u001b[0;34m\"Enter the path/name of program 2: \"\u001b[0m\u001b[0;34m)\u001b[0m\u001b[0;34m\u001b[0m\u001b[0;34m\u001b[0m\u001b[0m\n\u001b[0;32m--> 125\u001b[0;31m \u001b[0mplagiarismCheck\u001b[0m\u001b[0;34m(\u001b[0m\u001b[0mfn1\u001b[0m\u001b[0;34m,\u001b[0m \u001b[0mfn2\u001b[0m\u001b[0;34m)\u001b[0m\u001b[0;34m\u001b[0m\u001b[0;34m\u001b[0m\u001b[0m\n\u001b[0m",
            "\u001b[0;32m<ipython-input-24-08b483f224d5>\u001b[0m in \u001b[0;36mplagiarismCheck\u001b[0;34m(file1, file2)\u001b[0m\n\u001b[1;32m     92\u001b[0m                         \u001b[0mendx\u001b[0m \u001b[0;34m=\u001b[0m \u001b[0mk\u001b[0m\u001b[0;34m[\u001b[0m\u001b[0;36m1\u001b[0m\u001b[0;34m]\u001b[0m\u001b[0;34m\u001b[0m\u001b[0;34m\u001b[0m\u001b[0m\n\u001b[1;32m     93\u001b[0m                 \u001b[0;32mif\u001b[0m \u001b[0mflag\u001b[0m \u001b[0;34m==\u001b[0m \u001b[0;36m1\u001b[0m\u001b[0;34m:\u001b[0m\u001b[0;34m\u001b[0m\u001b[0;34m\u001b[0m\u001b[0m\n\u001b[0;32m---> 94\u001b[0;31m                     \u001b[0mpoints\u001b[0m\u001b[0;34m.\u001b[0m\u001b[0mappend\u001b[0m\u001b[0;34m(\u001b[0m\u001b[0;34m[\u001b[0m\u001b[0mstartx\u001b[0m\u001b[0;34m,\u001b[0m \u001b[0mendx\u001b[0m\u001b[0;34m]\u001b[0m\u001b[0;34m)\u001b[0m\u001b[0;34m\u001b[0m\u001b[0;34m\u001b[0m\u001b[0m\n\u001b[0m\u001b[1;32m     95\u001b[0m     \u001b[0mpoints\u001b[0m\u001b[0;34m.\u001b[0m\u001b[0msort\u001b[0m\u001b[0;34m(\u001b[0m\u001b[0mkey\u001b[0m \u001b[0;34m=\u001b[0m \u001b[0;32mlambda\u001b[0m \u001b[0mx\u001b[0m\u001b[0;34m:\u001b[0m \u001b[0mx\u001b[0m\u001b[0;34m[\u001b[0m\u001b[0;36m0\u001b[0m\u001b[0;34m]\u001b[0m\u001b[0;34m)\u001b[0m\u001b[0;34m\u001b[0m\u001b[0;34m\u001b[0m\u001b[0m\n\u001b[1;32m     96\u001b[0m     \u001b[0mpoints\u001b[0m \u001b[0;34m=\u001b[0m \u001b[0mpoints\u001b[0m\u001b[0;34m[\u001b[0m\u001b[0;36m1\u001b[0m\u001b[0;34m:\u001b[0m\u001b[0;34m]\u001b[0m\u001b[0;34m\u001b[0m\u001b[0;34m\u001b[0m\u001b[0m\n",
            "\u001b[0;31mUnboundLocalError\u001b[0m: local variable 'endx' referenced before assignment"
          ]
        }
      ]
    },
    {
      "cell_type": "code",
      "source": [
        ""
      ],
      "metadata": {
        "id": "Kt4Ubs3lo8pM"
      },
      "execution_count": null,
      "outputs": []
    },
    {
      "cell_type": "code",
      "source": [
        ""
      ],
      "metadata": {
        "id": "AI74Q6Ydo8qc"
      },
      "execution_count": null,
      "outputs": []
    },
    {
      "cell_type": "code",
      "source": [
        ""
      ],
      "metadata": {
        "id": "eAFJA0Gro8r4"
      },
      "execution_count": null,
      "outputs": []
    },
    {
      "cell_type": "code",
      "source": [
        "#thanks to Shashwat Sanket @shashwatsanket997 for suggesting the use of python difflib module\n",
        "from difflib import SequenceMatcher\n",
        "from cleanUP import *\n",
        "\n",
        "def plagerised_ratio(filename1, filename2):\n",
        "    tokens1 = tokenize(filename1) #(elements of cleaned up code, their position in original code, position in cleaned up code)\n",
        "    file1 = toText(tokens1)  #cleaned up code - greatly increases effectiveness of plagiarism checker\n",
        "    tokens2 = tokenize(filename2)\n",
        "    file2 = toText(tokens2)\n",
        "    SM = SequenceMatcher(None, file1, file2)\n",
        "    similarity_ratio = SM.ratio()\n",
        "    print(similarity_ratio)   # ratio of plagiarised content\n",
        "    blocks = list(SM.get_matching_blocks()) #elements  of blocks[] - (start-file1, start-file2, length)\n",
        "    blocks = blocks[: -1]\n",
        "    f1 = open(filename1, \"r\")\n",
        "    for i in blocks:\n",
        "        flag = 0\n",
        "        for j in range(len(tokens1)):\n",
        "            if tokens1[j][2] == i[0]:  #linking start of matching block to position in cleaned up code\n",
        "                start = tokens1[j][1]  #linking position in cleaned up code to position in original code file\n",
        "                flag = 1\n",
        "            if tokens1[j][2] == (i[0] + i[2] - 1): #linking end to cleaned up code\n",
        "                end = tokens1[j][1]  #linking to original code file\n",
        "                break\n",
        "        if not flag == 0 and (end - start) > 100:  #printing significant blocks of plagiarized content\n",
        "            #the start and end of matching blocks is linked to the original code to properly mark the plagiarized content\n",
        "            f1.seek(start, 0)\n",
        "            print(f1.read(end - start))\n",
        "\n",
        "fn1 = input(\"Enter the path/name of program 1: \")\n",
        "fn2 = input(\"Enter the path/name of program 2: \")\n",
        "plagerised_ratio(fn1, fn2)\n"
      ],
      "metadata": {
        "colab": {
          "base_uri": "https://localhost:8080/"
        },
        "id": "-0Bnl3qvo8s_",
        "outputId": "94828946-440f-4dea-b5f9-33cd2c1829f7"
      },
      "execution_count": null,
      "outputs": [
        {
          "output_type": "stream",
          "name": "stdout",
          "text": [
            "Enter the path/name of program 1: test2.py\n",
            "Enter the path/name of program 2: test3.py\n",
            "0.7905951506245408\n",
            "eturn d\n",
            "def largest_rectangle():\n",
            "    l1=[]\n",
            "    l2=[]\n",
            "    for i in range(n):\n",
            "        for j in range(i, n):\n",
            "            for k in range(j,n):\n",
            "                if points[i][0]==points[j][0] and points[i][1]==points[k][1]:\n",
            "                    x1=points[k][0]\n",
            "                    y1=points[j][1]\n",
            "                    if (x1,y1) in points:\n",
            "                        d=dist3(points[i], points[j], points[k])\n",
            "                        l1=[points[i], points[j], points[k], (x1,y1), d]\n",
            "                        l2.append(l1)\n",
            "    l2=sorted(l2, key=lambda x:x[-1], reverse=True)\n",
            "    print(l2[0])\n",
            "def largest_square():\n",
            "    l1=[]\n",
            "    l2=[]\n",
            "    for i in range(n):\n",
            "        for j in range(i, n):\n",
            "            for k in range(j,n):\n",
            "                if points[i][0]==points[j][0] and points[i][1]==points[k][1] and dist2(points[i], points[j])==dist2(points[i], points[k]):\n",
            "                    x1=points[k][0]\n",
            "                    y1=points[j][1]\n",
            "                    if (x1,y1) in points:\n",
            "                        d=dist3(points[i], points[j], points[k])\n",
            "                        l1=[points[i], points[j], points[k], (x1,y1), d]\n",
            "                        l2.append(l1)\n",
            "    l2=sorted(l2, key=lambda x:x[-1], reverse=True)\n",
            "    if l2[0][-1]==0:\n",
            "        print('No square.')\n",
            "    else:\n",
            "        pri\n"
          ]
        }
      ]
    },
    {
      "cell_type": "code",
      "source": [
        ""
      ],
      "metadata": {
        "id": "_pXGF4kSo8uZ"
      },
      "execution_count": null,
      "outputs": []
    },
    {
      "cell_type": "code",
      "source": [
        ""
      ],
      "metadata": {
        "id": "sWihM9Xlo8zM"
      },
      "execution_count": null,
      "outputs": []
    }
  ]
}